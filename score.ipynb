{
 "cells": [
  {
   "cell_type": "code",
   "execution_count": null,
   "id": "af7ff5a9",
   "metadata": {},
   "outputs": [
    {
     "name": "stdout",
     "output_type": "stream",
     "text": [
      "['int', '2', '1']\n",
      "['mult', '2', '4']\n",
      "['add', '1', '2']\n",
      "['div', '1', '10']\n",
      "{'int': {'2': '1'}, 'mult': {'2': '4'}, 'add': {'1': '2'}, 'div': {'1': '10'}}\n"
     ]
    }
   ],
   "source": [
    "uf_status = {\n",
    " \n",
    "}\n",
    "\n",
    "with open(\"uf_config1.in\", 'r') as f:\n",
    "    linhas = f.readlines()\n",
    "    for linha in linhas:\n",
    "        partes = linha.strip().split()\n",
    "        uf_status[partes[0]] = {partes[1]: partes[2]}\n",
    "print(uf_status)\n",
    "\n"
   ]
  },
  {
   "cell_type": "code",
   "execution_count": null,
   "id": "afab6b59",
   "metadata": {},
   "outputs": [
    {
     "name": "stdout",
     "output_type": "stream",
     "text": [
      "{'int': [{'id': 'int1', 'busy': False, 'op': None, 'fi': None, 'fj': None, 'fk': None, 'qj': None, 'qk': None, 'rj': False, 'rk': False, 'ciclos_restantes': 0, 'total_ciclos': 1}, {'id': 'int2', 'busy': False, 'op': None, 'fi': None, 'fj': None, 'fk': None, 'qj': None, 'qk': None, 'rj': False, 'rk': False, 'ciclos_restantes': 0, 'total_ciclos': 1}], 'mult': [{'id': 'mult1', 'busy': False, 'op': None, 'fi': None, 'fj': None, 'fk': None, 'qj': None, 'qk': None, 'rj': False, 'rk': False, 'ciclos_restantes': 0, 'total_ciclos': 4}, {'id': 'mult2', 'busy': False, 'op': None, 'fi': None, 'fj': None, 'fk': None, 'qj': None, 'qk': None, 'rj': False, 'rk': False, 'ciclos_restantes': 0, 'total_ciclos': 4}], 'add': [{'id': 'add1', 'busy': False, 'op': None, 'fi': None, 'fj': None, 'fk': None, 'qj': None, 'qk': None, 'rj': False, 'rk': False, 'ciclos_restantes': 0, 'total_ciclos': 2}], 'div': [{'id': 'div1', 'busy': False, 'op': None, 'fi': None, 'fj': None, 'fk': None, 'qj': None, 'qk': None, 'rj': False, 'rk': False, 'ciclos_restantes': 0, 'total_ciclos': 10}]}\n"
     ]
    }
   ],
   "source": [
    "fu = {}\n",
    "for uf, config in uf_status.items():\n",
    "    for c in config:\n",
    "        qnt = int(c)\n",
    "        ciclos = int(config[c])\n",
    "        fu[uf] = []\n",
    "        for i in range(qnt):\n",
    "            fu[uf].append({\n",
    "                'id': f'{uf}{i+1}',\n",
    "                'busy': False,\n",
    "                'op': None,\n",
    "                'fi': None,\n",
    "                'fj': None,\n",
    "                'fk': None,\n",
    "                'qj': None,\n",
    "                'qk': None,\n",
    "                'rj': False,\n",
    "                'rk': False,\n",
    "                'ciclos_restantes': 0,\n",
    "                'total_ciclos': ciclos\n",
    "            })\n",
    "\n",
    "print(fu)"
   ]
  }
 ],
 "metadata": {
  "kernelspec": {
   "display_name": "ambiente",
   "language": "python",
   "name": "python3"
  },
  "language_info": {
   "codemirror_mode": {
    "name": "ipython",
    "version": 3
   },
   "file_extension": ".py",
   "mimetype": "text/x-python",
   "name": "python",
   "nbconvert_exporter": "python",
   "pygments_lexer": "ipython3",
   "version": "3.12.3"
  }
 },
 "nbformat": 4,
 "nbformat_minor": 5
}
