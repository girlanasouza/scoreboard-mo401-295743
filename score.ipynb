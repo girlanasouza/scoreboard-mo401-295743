{
 "cells": [
  {
   "cell_type": "code",
   "execution_count": 106,
   "id": "46f8c36e",
   "metadata": {},
   "outputs": [
    {
     "data": {
      "text/plain": [
       "{'x0': {'x': 0, 'x_type': 'int', 'writer': None},\n",
       " 'x1': {'x': 1, 'x_type': 'int', 'writer': None},\n",
       " 'x2': {'x': 2, 'x_type': 'int', 'writer': None},\n",
       " 'x3': {'x': 3, 'x_type': 'int', 'writer': None},\n",
       " 'x4': {'x': 4, 'x_type': 'int', 'writer': None},\n",
       " 'x5': {'x': 5, 'x_type': 'int', 'writer': None},\n",
       " 'x6': {'x': 6, 'x_type': 'int', 'writer': None},\n",
       " 'x7': {'x': 7, 'x_type': 'int', 'writer': None},\n",
       " 'x8': {'x': 8, 'x_type': 'int', 'writer': None},\n",
       " 'x9': {'x': 9, 'x_type': 'int', 'writer': None},\n",
       " 'x10': {'x': 10, 'x_type': 'int', 'writer': None},\n",
       " 'x11': {'x': 11, 'x_type': 'int', 'writer': None},\n",
       " 'x12': {'x': 12, 'x_type': 'int', 'writer': None},\n",
       " 'x13': {'x': 13, 'x_type': 'int', 'writer': None},\n",
       " 'x14': {'x': 14, 'x_type': 'int', 'writer': None},\n",
       " 'x15': {'x': 15, 'x_type': 'int', 'writer': None},\n",
       " 'x16': {'x': 16, 'x_type': 'int', 'writer': None},\n",
       " 'x17': {'x': 17, 'x_type': 'int', 'writer': None},\n",
       " 'x18': {'x': 18, 'x_type': 'int', 'writer': None},\n",
       " 'x19': {'x': 19, 'x_type': 'int', 'writer': None},\n",
       " 'x20': {'x': 20, 'x_type': 'int', 'writer': None},\n",
       " 'x21': {'x': 21, 'x_type': 'int', 'writer': None},\n",
       " 'x22': {'x': 22, 'x_type': 'int', 'writer': None},\n",
       " 'x23': {'x': 23, 'x_type': 'int', 'writer': None},\n",
       " 'x24': {'x': 24, 'x_type': 'int', 'writer': None},\n",
       " 'x25': {'x': 25, 'x_type': 'int', 'writer': None},\n",
       " 'x26': {'x': 26, 'x_type': 'int', 'writer': None},\n",
       " 'x27': {'x': 27, 'x_type': 'int', 'writer': None},\n",
       " 'x28': {'x': 28, 'x_type': 'int', 'writer': None},\n",
       " 'x29': {'x': 29, 'x_type': 'int', 'writer': None},\n",
       " 'x30': {'x': 30, 'x_type': 'int', 'writer': None},\n",
       " 'x31': {'x': 31, 'x_type': 'int', 'writer': None},\n",
       " 'f0': {'f': 0, 'f_type': 'float', 'writer': None},\n",
       " 'f1': {'f': 1, 'f_type': 'float', 'writer': None},\n",
       " 'f2': {'f': 2, 'f_type': 'float', 'writer': None},\n",
       " 'f3': {'f': 3, 'f_type': 'float', 'writer': None},\n",
       " 'f4': {'f': 4, 'f_type': 'float', 'writer': None},\n",
       " 'f5': {'f': 5, 'f_type': 'float', 'writer': None},\n",
       " 'f6': {'f': 6, 'f_type': 'float', 'writer': None},\n",
       " 'f7': {'f': 7, 'f_type': 'float', 'writer': None},\n",
       " 'f8': {'f': 8, 'f_type': 'float', 'writer': None},\n",
       " 'f9': {'f': 9, 'f_type': 'float', 'writer': None},\n",
       " 'f10': {'f': 10, 'f_type': 'float', 'writer': None},\n",
       " 'f11': {'f': 11, 'f_type': 'float', 'writer': None},\n",
       " 'f12': {'f': 12, 'f_type': 'float', 'writer': None},\n",
       " 'f13': {'f': 13, 'f_type': 'float', 'writer': None},\n",
       " 'f14': {'f': 14, 'f_type': 'float', 'writer': None},\n",
       " 'f15': {'f': 15, 'f_type': 'float', 'writer': None},\n",
       " 'f16': {'f': 16, 'f_type': 'float', 'writer': None},\n",
       " 'f17': {'f': 17, 'f_type': 'float', 'writer': None},\n",
       " 'f18': {'f': 18, 'f_type': 'float', 'writer': None},\n",
       " 'f19': {'f': 19, 'f_type': 'float', 'writer': None},\n",
       " 'f20': {'f': 20, 'f_type': 'float', 'writer': None},\n",
       " 'f21': {'f': 21, 'f_type': 'float', 'writer': None},\n",
       " 'f22': {'f': 22, 'f_type': 'float', 'writer': None},\n",
       " 'f23': {'f': 23, 'f_type': 'float', 'writer': None},\n",
       " 'f24': {'f': 24, 'f_type': 'float', 'writer': None},\n",
       " 'f25': {'f': 25, 'f_type': 'float', 'writer': None},\n",
       " 'f26': {'f': 26, 'f_type': 'float', 'writer': None},\n",
       " 'f27': {'f': 27, 'f_type': 'float', 'writer': None},\n",
       " 'f28': {'f': 28, 'f_type': 'float', 'writer': None},\n",
       " 'f29': {'f': 29, 'f_type': 'float', 'writer': None},\n",
       " 'f30': {'f': 30, 'f_type': 'float', 'writer': None},\n",
       " 'f31': {'f': 31, 'f_type': 'float', 'writer': None}}"
      ]
     },
     "execution_count": 106,
     "metadata": {},
     "output_type": "execute_result"
    }
   ],
   "source": [
    "register_status = {}\n",
    "\n",
    "# Registradores inteiros (x0..x31)\n",
    "for i in range(32):\n",
    "    register_status[f\"x{i}\"] = {\"x\": i, \"x_type\": \"int\", \"writer\": None}\n",
    "\n",
    "# Registradores de ponto flutuante (f0..f31)\n",
    "for i in range(32):\n",
    "    register_status[f\"f{i}\"] = {\"f\": i, \"f_type\": \"float\", \"writer\": None}\n",
    "\n",
    "register_status\n"
   ]
  },
  {
   "cell_type": "code",
   "execution_count": null,
   "id": "d0fb31e1",
   "metadata": {},
   "outputs": [],
   "source": []
  },
  {
   "cell_type": "markdown",
   "id": "3ba015fc",
   "metadata": {},
   "source": [
    "Parser das instruções"
   ]
  },
  {
   "cell_type": "code",
   "execution_count": 107,
   "id": "d7f8594f",
   "metadata": {},
   "outputs": [
    {
     "name": "stdout",
     "output_type": "stream",
     "text": [
      "{'instr': {'opcode': 0, 'rs1': 1, 'rs1_type': 'int', 'rs2': 0, 'rs2_type': None, 'rd': 1, 'rd_type': 'float', 'imm': 0}, 'issue': None, 'read': None, 'exec': None, 'write': None}\n",
      "{'instr': {'opcode': 0, 'rs1': 1, 'rs1_type': 'int', 'rs2': 0, 'rs2_type': None, 'rd': 5, 'rd_type': 'float', 'imm': 0}, 'issue': None, 'read': None, 'exec': None, 'write': None}\n",
      "{'instr': {'opcode': 5, 'rs1': 4, 'rs1_type': 'float', 'rs2': 5, 'rs2_type': 'float', 'rd': 2, 'rd_type': 'float', 'imm': None}, 'issue': None, 'read': None, 'exec': None, 'write': None}\n",
      "{'instr': {'opcode': 4, 'rs1': 8, 'rs1_type': 'float', 'rs2': 9, 'rs2_type': 'float', 'rd': 4, 'rd_type': 'float', 'imm': None}, 'issue': None, 'read': None, 'exec': None, 'write': None}\n",
      "{'instr': {'opcode': 2, 'rs1': 2, 'rs1_type': 'float', 'rs2': 3, 'rs2_type': 'float', 'rd': 1, 'rd_type': 'float', 'imm': None}, 'issue': None, 'read': None, 'exec': None, 'write': None}\n",
      "{'instr': {'opcode': 1, 'rs1': 2, 'rs1_type': 'int', 'rs2': 4, 'rs2_type': 'float', 'rd': 0, 'rd_type': None, 'imm': 0}, 'issue': None, 'read': None, 'exec': None, 'write': None}\n"
     ]
    }
   ],
   "source": [
    "import parser_inst\n",
    "inst_status = []\n",
    "instructions = parser_inst.parse_instructions(\"tests/ex.s\")\n",
    "for inst in instructions:\n",
    "    inst_status.append({\"instr\": inst, \"issue\": None, \"read\": None, \"exec\": None, \"write\": None})\n",
    "for i in inst_status:\n",
    "    print(i)"
   ]
  },
  {
   "cell_type": "markdown",
   "id": "43f902aa",
   "metadata": {},
   "source": [
    "Parser das functionals units"
   ]
  },
  {
   "cell_type": "code",
   "execution_count": 108,
   "id": "9e043db7",
   "metadata": {},
   "outputs": [
    {
     "name": "stdout",
     "output_type": "stream",
     "text": [
      "int1 {'Opcode': 0, 'Busy': False, 'Op': None, 'Fi': None, 'Fj': None, 'Fk': None, 'Qj': None, 'Qk': None, 'Rj': True, 'Rk': True, 'Cycles': 1, 'CyclesLeft': 0}\n",
      "int2 {'Opcode': 0, 'Busy': False, 'Op': None, 'Fi': None, 'Fj': None, 'Fk': None, 'Qj': None, 'Qk': None, 'Rj': True, 'Rk': True, 'Cycles': 1, 'CyclesLeft': 0}\n",
      "div1 {'Opcode': 3, 'Busy': False, 'Op': None, 'Fi': None, 'Fj': None, 'Fk': None, 'Qj': None, 'Qk': None, 'Rj': True, 'Rk': True, 'Cycles': 10, 'CyclesLeft': 0}\n"
     ]
    }
   ],
   "source": [
    "fus_configs = {}\n",
    "fus = {}\n",
    "with open(\"tests/uf_config2.in\", 'r') as f:\n",
    "    linhas = f.readlines()\n",
    "    for linha in linhas:\n",
    "        partes = linha.strip().split()\n",
    "        fus_configs[partes[0]] = {partes[1]: partes[2]}\n",
    "\n",
    "for uf, config in fus_configs.items():\n",
    "    for c in config:\n",
    "        qnt = int(c)\n",
    "        ciclos = int(config[c])\n",
    "        for i in range(qnt):\n",
    "            if uf == 'int':\n",
    "                opcode = 0\n",
    "            elif uf == 'add':\n",
    "                opcode = 1\n",
    "            elif uf == 'mult':\n",
    "                opcode = 2\n",
    "            elif uf == 'div':\n",
    "                opcode = 3\n",
    "\n",
    "            fus[f\"{uf}{i+1}\"] = {\n",
    "                \"Opcode\": opcode,\n",
    "                \"Busy\": False,\n",
    "                \"Op\": None,\n",
    "                \"Fi\": None,\n",
    "                \"Fj\": None,\n",
    "                \"Fk\": None,\n",
    "                \"Qj\": None,\n",
    "                \"Qk\": None,\n",
    "                \"Rj\": True,\n",
    "                \"Rk\": True,\n",
    "                \"Cycles\": ciclos,\n",
    "                \"CyclesLeft\": 0\n",
    "            }\n",
    "\n",
    "for u in fus:\n",
    "    print(u, fus[u])"
   ]
  },
  {
   "cell_type": "markdown",
   "id": "f37b3d53",
   "metadata": {},
   "source": [
    "## ISSUE\n",
    "\n",
    "Issue:\n",
    "Pega a instrução da tabela \"Instruction status\" \n",
    "Verifica qual fu ela quer usar\n",
    "Verifica se tem fu correspondente livre na tabela \"Functional unit status\"\n",
    "Verifica se alguém vai escrever no registrador rd (destino) na tabela \"Register Status\" \n",
    "Caso não, reserva FU na fus_status_table\n",
    "Reserva RD register_status\n"
   ]
  },
  {
   "cell_type": "code",
   "execution_count": 109,
   "id": "a519447d",
   "metadata": {},
   "outputs": [],
   "source": [
    "instr = inst_status[0]['instr']\n",
    "opcode = instr['opcode']\n",
    "rs1 = instr['rs1']\n",
    "rs1_type = instr['rs1_type']\n",
    "rs2 = instr['rs2']\n",
    "rs2_type = instr['rs2_type']\n",
    "rd = instr['rd']\n",
    "rd_type = instr['rd_type']\n",
    "# Reservar registrador de destino (rd)    \n",
    "prefix_rd = \"x\" if rd_type == \"int\" else \"f\"\n",
    "key_rd = f\"{prefix_rd}{rd}\"\n",
    "\n",
    "prefix_rs1 = \"x\" if rs1_type == \"int\" else \"f\"\n",
    "key_rs1 = f\"{prefix_rs1}{rs1}\"\n",
    "\n",
    "prefix_rs2 = \"x\" if rs2_type == \"int\" else \"f\"\n",
    "key_rs2 = f\"{prefix_rs2}{rs2}\"\n",
    "if opcode == 0: # qual fu precisa?\n",
    "    for fu_name, fu in fus.items(): \n",
    "        if fu['Opcode'] == opcode and not fu['Busy']: # se a FU precisa estiver livre\n",
    "            fu['Busy'] = True # Reserva a FU\n",
    "            fu['Op'] = opcode\n",
    "            fu['Fi'] = rd\n",
    "            fu['Fj'] = rs1\n",
    "            fu['Fk'] = rs2\n",
    "            fu['Qj'] = register_status[key_rs1]['writer']\n",
    "            fu['Qk'] = register_status[key_rs2]['writer']\n",
    "            fu['Rj'] = True if fu['Qj'] is None else False\n",
    "            fu['Rk'] = True if fu['Qk'] is None else False\n",
    "            fu['CyclesLeft'] = fu['Cycles']\n",
    "            inst_status[0]['issue'] = 1 # Ciclo de issue\n",
    "            \n"
   ]
  },
  {
   "cell_type": "code",
   "execution_count": 110,
   "id": "902610ee",
   "metadata": {},
   "outputs": [
    {
     "name": "stdout",
     "output_type": "stream",
     "text": [
      "{'instr': {'opcode': 0, 'rs1': 1, 'rs1_type': 'int', 'rs2': 0, 'rs2_type': None, 'rd': 1, 'rd_type': 'float', 'imm': 0}, 'issue': 1, 'read': None, 'exec': None, 'write': None}\n",
      "{'instr': {'opcode': 0, 'rs1': 1, 'rs1_type': 'int', 'rs2': 0, 'rs2_type': None, 'rd': 5, 'rd_type': 'float', 'imm': 0}, 'issue': None, 'read': None, 'exec': None, 'write': None}\n",
      "{'instr': {'opcode': 5, 'rs1': 4, 'rs1_type': 'float', 'rs2': 5, 'rs2_type': 'float', 'rd': 2, 'rd_type': 'float', 'imm': None}, 'issue': None, 'read': None, 'exec': None, 'write': None}\n",
      "{'instr': {'opcode': 4, 'rs1': 8, 'rs1_type': 'float', 'rs2': 9, 'rs2_type': 'float', 'rd': 4, 'rd_type': 'float', 'imm': None}, 'issue': None, 'read': None, 'exec': None, 'write': None}\n",
      "{'instr': {'opcode': 2, 'rs1': 2, 'rs1_type': 'float', 'rs2': 3, 'rs2_type': 'float', 'rd': 1, 'rd_type': 'float', 'imm': None}, 'issue': None, 'read': None, 'exec': None, 'write': None}\n",
      "{'instr': {'opcode': 1, 'rs1': 2, 'rs1_type': 'int', 'rs2': 4, 'rs2_type': 'float', 'rd': 0, 'rd_type': None, 'imm': 0}, 'issue': None, 'read': None, 'exec': None, 'write': None}\n"
     ]
    }
   ],
   "source": [
    "for i in inst_status:\n",
    "    print(i)"
   ]
  },
  {
   "cell_type": "markdown",
   "id": "70bd7c83",
   "metadata": {},
   "source": [
    "## Scoreboard"
   ]
  },
  {
   "cell_type": "code",
   "execution_count": 113,
   "id": "e636c269",
   "metadata": {},
   "outputs": [
    {
     "name": "stdout",
     "output_type": "stream",
     "text": [
      "{'opcode': 0, 'rs1': 1, 'rs1_type': 'int', 'rs2': 0, 'rs2_type': None, 'rd': 1, 'rd_type': 'float', 'imm': 0}\n",
      "{'opcode': 0, 'rs1': 1, 'rs1_type': 'int', 'rs2': 0, 'rs2_type': None, 'rd': 5, 'rd_type': 'float', 'imm': 0}\n",
      "{'opcode': 5, 'rs1': 4, 'rs1_type': 'float', 'rs2': 5, 'rs2_type': 'float', 'rd': 2, 'rd_type': 'float', 'imm': None}\n",
      "{'opcode': 4, 'rs1': 8, 'rs1_type': 'float', 'rs2': 9, 'rs2_type': 'float', 'rd': 4, 'rd_type': 'float', 'imm': None}\n",
      "{'opcode': 2, 'rs1': 2, 'rs1_type': 'float', 'rs2': 3, 'rs2_type': 'float', 'rd': 1, 'rd_type': 'float', 'imm': None}\n",
      "{'opcode': 1, 'rs1': 2, 'rs1_type': 'int', 'rs2': 4, 'rs2_type': 'float', 'rd': 0, 'rd_type': None, 'imm': 0}\n"
     ]
    }
   ],
   "source": [
    "# instr = inst_status[0]['instr']\n",
    "\n",
    "for instr in inst_status:\n",
    "    print(instr['instr'])    "
   ]
  },
  {
   "cell_type": "code",
   "execution_count": null,
   "id": "ab3e9e20",
   "metadata": {},
   "outputs": [],
   "source": []
  }
 ],
 "metadata": {
  "kernelspec": {
   "display_name": "ambiente",
   "language": "python",
   "name": "python3"
  },
  "language_info": {
   "codemirror_mode": {
    "name": "ipython",
    "version": 3
   },
   "file_extension": ".py",
   "mimetype": "text/x-python",
   "name": "python",
   "nbconvert_exporter": "python",
   "pygments_lexer": "ipython3",
   "version": "3.13.3"
  }
 },
 "nbformat": 4,
 "nbformat_minor": 5
}
