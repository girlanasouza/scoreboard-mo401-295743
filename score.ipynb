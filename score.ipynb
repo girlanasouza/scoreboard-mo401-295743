{
 "cells": [
  {
   "cell_type": "code",
   "execution_count": 1,
   "id": "a13b4c69",
   "metadata": {},
   "outputs": [],
   "source": [
    "import pandas as pd"
   ]
  },
  {
   "cell_type": "markdown",
   "id": "bb388f61",
   "metadata": {},
   "source": [
    "## Register Status"
   ]
  },
  {
   "cell_type": "code",
   "execution_count": 2,
   "id": "46f8c36e",
   "metadata": {},
   "outputs": [],
   "source": [
    "def ini_register_status():\n",
    "    register_status = {}\n",
    "\n",
    "    # Registradores inteiros (x0..x31)\n",
    "    for i in range(32):\n",
    "        register_status[f\"x{i}\"] = {\"x\": i, \"x_type\": \"int\", \"writer\": None}\n",
    "\n",
    "    # Registradores de ponto flutuante (f0..f31)\n",
    "    for i in range(32):\n",
    "        register_status[f\"f{i}\"] = {\"f\": i, \"f_type\": \"float\", \"writer\": None}\n",
    "    return register_status\n"
   ]
  },
  {
   "cell_type": "markdown",
   "id": "3ba015fc",
   "metadata": {},
   "source": [
    "## Parser das instruções"
   ]
  },
  {
   "cell_type": "code",
   "execution_count": 3,
   "id": "6fca31db",
   "metadata": {},
   "outputs": [],
   "source": [
    "OPCODES = {\n",
    "    'fld': 0,\n",
    "    'fsd': 1,\n",
    "    'fadd': 2,\n",
    "    'fsub': 3,\n",
    "    'fmul': 4,\n",
    "    'fdiv': 5\n",
    "}\n",
    "\n",
    "# Define register prefix constants\n",
    "REG_PREFIXES = {\n",
    "    'x': 'int',\n",
    "    'f': 'float'\n",
    "}"
   ]
  },
  {
   "cell_type": "code",
   "execution_count": null,
   "id": "e2a4bd62",
   "metadata": {},
   "outputs": [],
   "source": [
    "def init_instruction_status(program_name):\n",
    "    instruction_status =[]\n",
    "    with open(program_name, \"r\") as file:\n",
    "        for i, line in enumerate(file):\n",
    "            op = OPCODES[line.split()[0]]\n",
    "            if (op == 0 or op==1):\n",
    "                rd = line.split()[1].replace(\",\", \"\")\n",
    "                rs1 = line.split()[2].split(\"(\")[1].replace(\")\", \"\")\n",
    "                rs2 = None\n",
    "                imm = line.split()[2].split(\"(\")[0]\n",
    "                fu_type = 0\n",
    "            else:\n",
    "                if op == 2 or op == 3: fu_type = 2\n",
    "                elif op == 4: fu_type = 1\n",
    "                elif op == 5: fu_type = 3\n",
    "                rd = line.split()[1].replace(\",\", \"\")\n",
    "                rs1 = line.split()[2].replace(\",\", \"\")\n",
    "                rs2 = line.split()[3].replace(\",\", \"\")\n",
    "                imm = None          \n",
    "            instruction_status.append({ \n",
    "                \"id\": i,\n",
    "                \"inst\": line.replace(\"\\n\", \"\"),\n",
    "                \"opcode\": op,\n",
    "                \"fu_name\": None,\n",
    "                \"fu_type\": fu_type,\n",
    "                \"rd\": rd,\n",
    "                \"rs1\": rs1,\n",
    "                \"rs2\": rs2,\n",
    "                \"issue\": None,\n",
    "                \"read_operands\": None,\n",
    "                \"execution_complete\": None,\n",
    "                \"write_result\": None\n",
    "\n",
    "            })\n",
    "    return  instruction_status"
   ]
  },
  {
   "cell_type": "markdown",
   "id": "43f902aa",
   "metadata": {},
   "source": [
    "## Parser das functionals units"
   ]
  },
  {
   "cell_type": "code",
   "execution_count": 5,
   "id": "72e6e1aa",
   "metadata": {},
   "outputs": [],
   "source": [
    "def parser_fus_configs(config_name):\n",
    "    fus_configs = {}\n",
    "    with open(config_name, 'r') as f:\n",
    "        linhas = f.readlines()\n",
    "        for linha in linhas:\n",
    "            partes = linha.strip().split()\n",
    "            fus_configs[partes[0]] = {'qtd': partes[1], 'cycles': partes[2]}\n",
    "    return fus_configs"
   ]
  },
  {
   "cell_type": "code",
   "execution_count": 19,
   "id": "34a53361",
   "metadata": {},
   "outputs": [],
   "source": [
    "def init_fus_status(programa_config):\n",
    "    fus_configs = parser_fus_configs(programa_config)\n",
    "    fus_status = {}\n",
    "    for uf_type, config in fus_configs.items():\n",
    "        if uf_type == 'int':\n",
    "            op = 0\n",
    "        elif uf_type == 'mult':\n",
    "            op = 1\n",
    "        elif uf_type == 'add':\n",
    "            op = 2\n",
    "        elif uf_type == 'div':\n",
    "            op = 3\n",
    "        for c in range(int(config['qtd'])):\n",
    "            fus_status[f'{uf_type}{c+1}'] = {\n",
    "                'Opcode': op, \n",
    "                'Busy': False, \n",
    "                'Op': None, \n",
    "                'Fi': None,\n",
    "                'Fj': None, \n",
    "                'Fk': None, \n",
    "                'Qj': None, \n",
    "                'Qk': None,\n",
    "                'Rj': False, \n",
    "                'Rk': False, \n",
    "                'Cycles_left': int(config['cycles']), \n",
    "                'Cycles': int(config['cycles'])\n",
    "            }\n",
    "    return fus_status"
   ]
  },
  {
   "cell_type": "markdown",
   "id": "f37b3d53",
   "metadata": {},
   "source": [
    "## ISSUE"
   ]
  },
  {
   "cell_type": "markdown",
   "id": "1659df50",
   "metadata": {},
   "source": [
    "Verificar se a unidade funcional requerida está livre -- sem hazards estruturais\n",
    "    \n",
    "    Functional unit status -- verificada aqui\n",
    "\n",
    "Verificar se nenhuma outra instrução vai escrever no rd -- sem WAW hazards\n",
    "    \n",
    "    Register Status -- verificado aqui"
   ]
  },
  {
   "cell_type": "code",
   "execution_count": 7,
   "id": "e806b3bc",
   "metadata": {},
   "outputs": [],
   "source": [
    "def issue(instr, fus_status, register_status):\n",
    "    opcode_i = instr['opcode']\n",
    "    id_i = instr['id']\n",
    "    rs1_i = instr['rs1']\n",
    "    rs2_i = instr['rs2']\n",
    "    rd_i = instr['rd']\n",
    "    fu_type = instr['fu_type']\n",
    "\n",
    "    print(f\"\\n[ISSUE] Tentando emitir instrução {id_i}: {instr['inst']}\")\n",
    "\n",
    "    for fu_name, fu in fus_status.items():\n",
    "        print(f\"  Checando FU {fu_name} (Opcode esperado={fu_type}, FU Opcode={fu['Opcode']}, Busy={fu['Busy']})\")\n",
    "\n",
    "        # 1. opcode não bate\n",
    "        if fu['Opcode'] != fu_type:\n",
    "            print(f\"    -> Falha: FU {fu_name} não suporta opcode {fu_type}\")\n",
    "            continue\n",
    "\n",
    "        # 2. FU já ocupada\n",
    "        if fu['Busy']:\n",
    "            print(f\"    -> Falha: FU {fu_name} ocupada (Busy=True)\")\n",
    "            continue\n",
    "\n",
    "        # 3. registrador destino já tem writer\n",
    "        if register_status[rd_i]['writer'] is not None:\n",
    "            print(f\"    -> Falha: registrador {rd_i} já tem writer {register_status[rd_i]['writer']}\")\n",
    "            return False\n",
    "\n",
    "        # Se passou em tudo, ocupa FU\n",
    "        print(f\"    -> Sucesso: Instr {id_i} emitida na FU {fu_name}\")\n",
    "        fu['Busy'] = True\n",
    "        fu['Op'] = id_i\n",
    "        fu['Fi'] = rd_i\n",
    "        fu['Fj'] = rs1_i\n",
    "        fu['Fk'] = rs2_i\n",
    "        fu['Qj'] = register_status[rs1_i]['writer'] if rs1_i is not None else None\n",
    "        fu['Qk'] = register_status[rs2_i]['writer'] if rs2_i is not None else None\n",
    "        fu['Rj'] = fu['Qj'] is None\n",
    "        fu['Rk'] = fu['Qk'] is None\n",
    "        register_status[rd_i]['writer'] = fu_name\n",
    "        instr['fu_name'] = fu_name\n",
    "        return True\n",
    "\n",
    "    print(f\"  -> Nenhuma FU disponível para emitir instrução {id_i}\")\n",
    "    return False\n"
   ]
  },
  {
   "cell_type": "markdown",
   "id": "85afbda0",
   "metadata": {},
   "source": [
    "## Read Operands"
   ]
  },
  {
   "cell_type": "markdown",
   "id": "62f5546a",
   "metadata": {},
   "source": [
    "verifica no `register_status` se alguma unidade funcional vai escrever nos operandos de leitura `rs1` e `rs2`"
   ]
  },
  {
   "cell_type": "code",
   "execution_count": 8,
   "id": "796bc1bd",
   "metadata": {},
   "outputs": [],
   "source": [
    "def read_operands(fu, inst, register_status, instruction_status, cycle):\n",
    "            \n",
    "            print(f\"[DEBUG] Estado inicial da FU {inst['fu_name']}: {fu}\")\n",
    "\n",
    "            if not fu['Rj']:\n",
    "                writer_j = register_status.get(fu['Fj'], {}).get('writer')\n",
    "                print(f\"[DEBUG] FU={inst['fu_name']} -> Registrador Fj={fu['Fj']} | writer_j={writer_j}\")\n",
    "\n",
    "                if writer_j is None:  # ninguém está escrevendo em Rj\n",
    "                    fu['Rj'] = True\n",
    "                    fu['Qj'] = None\n",
    "                    print(f\"[DEBUG] Fj livre -> FU['Rj'] = True, Qj=None\")\n",
    "                else:\n",
    "                    writer_inst = next((i for i in instruction_status if i['fu_name'] == writer_j), None)\n",
    "                    print(f\"[DEBUG] Dependência encontrada: writer_inst={writer_inst}\")\n",
    "                    if writer_inst and writer_inst['write_result'] is not None and inst['write_result'] < cycle: # somente se o write estiver completo\n",
    "                        fu['Rj'] = True\n",
    "                        fu['Qj'] = None\n",
    "                        print(f\"[DEBUG] Escritor já escreveu os resultados -> FU['Rj'] = True, Qj=None\")\n",
    "\n",
    "            # --- Checando Rk ---\n",
    "            if not fu['Rk']:\n",
    "                print(f\"[DEBUG] FU={inst['fu_name']} -> Registrador Fk={fu['Fk']}\")\n",
    "                if not fu['Fk']:  # não tem Fk\n",
    "                    fu['Rk'] = True\n",
    "                    print(f\"[DEBUG] Fk inexistente -> FU['Rk'] = True\")\n",
    "                else:\n",
    "                    writer_k = register_status.get(fu['Fk'], {}).get('writer')\n",
    "                    print(f\"[DEBUG] FU={inst['fu_name']} -> writer_k={writer_k}\")\n",
    "                    if writer_k is None:\n",
    "                        fu['Rk'] = True\n",
    "                        fu['Qk'] = None\n",
    "                        print(f\"[DEBUG] Fk livre -> FU['Rk'] = True, Qk=None\")\n",
    "\n",
    "            # --- Se pode ler operandos ---\n",
    "            if fu['Rj'] and fu['Rk']:\n",
    "                inst['read_operands'] = cycle\n",
    "                fu['Rj'] = False\n",
    "                fu['Rk'] = False\n",
    "                print(f\"[SUCCESS] Ciclo {cycle}: Instrução '{inst['inst']}' leu os operandos.\")\n",
    "                print(f\"[DEBUG] Estado final da FU {inst['fu_name']}: {fu}\")"
   ]
  },
  {
   "cell_type": "markdown",
   "id": "61eed7d7",
   "metadata": {},
   "source": [
    "## Complete Execution"
   ]
  },
  {
   "cell_type": "code",
   "execution_count": 9,
   "id": "db4c37fa",
   "metadata": {},
   "outputs": [],
   "source": [
    "\n",
    "def execute(fu, cycle, inst):\n",
    "    if fu['Cycles_left'] > 0:\n",
    "        fu['Cycles_left'] -= 1\n",
    "        print(f\"INFO: Instrução '{inst['inst']}' está executando. Ciclos restantes: {fu['Cycles_left']}.\")\n",
    "    if fu['Cycles_left'] == 0:\n",
    "        inst['execution_complete'] = cycle\n",
    "        fu['Cycles_left'] = fu['Cycles']\n",
    "        print(f\"OK: Instrução '{inst['inst']}' completou a execução.\")"
   ]
  },
  {
   "cell_type": "markdown",
   "id": "189a8269",
   "metadata": {},
   "source": [
    "## Write Results"
   ]
  },
  {
   "cell_type": "code",
   "execution_count": 10,
   "id": "3d9d17bd",
   "metadata": {},
   "outputs": [],
   "source": [
    "def write_results(fus_status, inst, cycle, register_status):\n",
    "    fu = fus_status[inst['fu_name']]\n",
    "    fi_register = fu['Fi'] # O registrador de destino desta instrução\n",
    "\n",
    "    # --- VERIFICAÇÃO DE HAZARD WAR ---\n",
    "    # Itera sobre todas as unidades funcionais para ver se alguma precisa ler nosso registrador de destino.\n",
    "    for other_fu_name, other_fu in fus_status.items():\n",
    "        # Ignora a verificação contra si mesma\n",
    "        if other_fu_name == inst['fu_name']:\n",
    "            continue\n",
    "\n",
    "        # Condição de Hazard: Outra FU ainda não leu (Rj=False) e seu operando fonte (Fj)\n",
    "        # é o nosso registrador de destino (Fi).\n",
    "        if other_fu['Rj'] and other_fu['Fj'] == fi_register:\n",
    "            print(f\"STALL (WAR): Write Back de '{inst['inst']}' pausado. FU '{other_fu_name}' ainda precisa ler {fi_register}.\")\n",
    "            return # Stall! Não faz nada neste ciclo.\n",
    "\n",
    "        # Repete a verificação para o segundo operando (Fk)\n",
    "        if other_fu['Rk'] and other_fu['Fk'] == fi_register:\n",
    "            print(f\"STALL (WAR): Write Back de '{inst['inst']}' pausado. FU '{other_fu_name}' ainda precisa ler {fi_register}.\")\n",
    "            return # Stall!True\n",
    "\n",
    "    # --- Se passou na verificação (sem hazards), procede com o Write Back ---\n",
    "    inst['write_result'] = cycle\n",
    "    print(f\"OK: Instrução '{inst['inst']}' fez Write Back.\")\n",
    "\n",
    "    if fi_register and register_status[fi_register]['writer'] == inst['fu_name']:\n",
    "        register_status[fi_register]['writer'] = None\n",
    "        print(f\"Liberando registrador de destino {fi_register}\")\n",
    "\n",
    "    fu.update({\n",
    "        'Busy': False, 'Op': None, 'Fi': None, 'Fj': None, 'Fk': None,\n",
    "        'Qj': None, 'Qk': None, 'Rj': False, 'Rk': False\n",
    "    })"
   ]
  },
  {
   "cell_type": "markdown",
   "id": "70bd7c83",
   "metadata": {},
   "source": [
    "## Scoreboard"
   ]
  },
  {
   "cell_type": "markdown",
   "id": "c5f896cf",
   "metadata": {},
   "source": [
    "### Montando a instrução novamente"
   ]
  },
  {
   "cell_type": "code",
   "execution_count": 20,
   "id": "7ecc8c66",
   "metadata": {},
   "outputs": [],
   "source": [
    "prog_file = \"tests/ex4.s\"\n",
    "fus_file = \"tests/uf_config4.in\""
   ]
  },
  {
   "cell_type": "code",
   "execution_count": 12,
   "id": "f15ed37d",
   "metadata": {},
   "outputs": [],
   "source": [
    "def has_pending_instructions(inst_status):\n",
    "    return any(inst['write_result'] is None for inst in inst_status)\n"
   ]
  },
  {
   "cell_type": "markdown",
   "id": "64473224",
   "metadata": {},
   "source": [
    "fld f1, 0(x1)\n",
    "fld f5, 0(x1)"
   ]
  },
  {
   "cell_type": "code",
   "execution_count": 21,
   "id": "ddfa969b",
   "metadata": {},
   "outputs": [],
   "source": [
    "register_status = ini_register_status()\n",
    "instruction_status = init_instruction_status(prog_file)\n",
    "fus_status = init_fus_status(fus_file)"
   ]
  },
  {
   "cell_type": "code",
   "execution_count": 22,
   "id": "8a82b15d",
   "metadata": {},
   "outputs": [
    {
     "data": {
      "text/plain": [
       "{'add1': {'Opcode': 2,\n",
       "  'Busy': False,\n",
       "  'Op': None,\n",
       "  'Fi': None,\n",
       "  'Fj': None,\n",
       "  'Fk': None,\n",
       "  'Qj': None,\n",
       "  'Qk': None,\n",
       "  'Rj': False,\n",
       "  'Rk': False,\n",
       "  'Cycles_left': 2,\n",
       "  'Cycles': 2},\n",
       " 'add2': {'Opcode': 2,\n",
       "  'Busy': False,\n",
       "  'Op': None,\n",
       "  'Fi': None,\n",
       "  'Fj': None,\n",
       "  'Fk': None,\n",
       "  'Qj': None,\n",
       "  'Qk': None,\n",
       "  'Rj': False,\n",
       "  'Rk': False,\n",
       "  'Cycles_left': 2,\n",
       "  'Cycles': 2}}"
      ]
     },
     "execution_count": 22,
     "metadata": {},
     "output_type": "execute_result"
    }
   ],
   "source": [
    "fus_status"
   ]
  },
  {
   "cell_type": "markdown",
   "id": "d448df2a",
   "metadata": {},
   "source": [
    "Debug"
   ]
  },
  {
   "cell_type": "code",
   "execution_count": 23,
   "id": "723e14d7",
   "metadata": {},
   "outputs": [
    {
     "name": "stdout",
     "output_type": "stream",
     "text": [
      "\n",
      "--- Cycle 1 ---\n",
      "PC = 0\n",
      "\n",
      "[ISSUE] Tentando emitir instrução 0: fadd f4, f5, f7\n",
      "  Checando FU add1 (Opcode esperado=2, FU Opcode=2, Busy=False)\n",
      "    -> Sucesso: Instr 0 emitida na FU add1\n",
      "--> Instr 0 emitida\n",
      "\n",
      "--- Cycle 2 ---\n",
      "PC = 1\n",
      "\n",
      "[DEBUG] Ciclo 2 - Checando instrução 'fadd f4, f5, f7' (FU=add1)\n",
      "[DEBUG] Estado inicial da FU add1: {'Opcode': 2, 'Busy': True, 'Op': 0, 'Fi': 'f4', 'Fj': 'f5', 'Fk': 'f7', 'Qj': None, 'Qk': None, 'Rj': True, 'Rk': True, 'Cycles_left': 2, 'Cycles': 2}\n",
      "[SUCCESS] Ciclo 2: Instrução 'fadd f4, f5, f7' leu os operandos.\n",
      "[DEBUG] Estado final da FU add1: {'Opcode': 2, 'Busy': True, 'Op': 0, 'Fi': 'f4', 'Fj': 'f5', 'Fk': 'f7', 'Qj': None, 'Qk': None, 'Rj': False, 'Rk': False, 'Cycles_left': 2, 'Cycles': 2}\n",
      "\n",
      "[ISSUE] Tentando emitir instrução 1: fsub f15, f4, f31\n",
      "  Checando FU add1 (Opcode esperado=2, FU Opcode=2, Busy=True)\n",
      "    -> Falha: FU add1 ocupada (Busy=True)\n",
      "  Checando FU add2 (Opcode esperado=2, FU Opcode=2, Busy=False)\n",
      "    -> Sucesso: Instr 1 emitida na FU add2\n",
      "--> Instr 1 emitida\n",
      "\n",
      "--- Cycle 3 ---\n",
      "PC = 2\n",
      "INFO: Instrução 'fadd f4, f5, f7' está executando. Ciclos restantes: 1.\n",
      "\n",
      "[DEBUG] Ciclo 3 - Checando instrução 'fsub f15, f4, f31' (FU=add2)\n",
      "[DEBUG] Estado inicial da FU add2: {'Opcode': 2, 'Busy': True, 'Op': 1, 'Fi': 'f15', 'Fj': 'f4', 'Fk': 'f31', 'Qj': 'add1', 'Qk': None, 'Rj': False, 'Rk': True, 'Cycles_left': 2, 'Cycles': 2}\n",
      "[DEBUG] FU=add2 -> Registrador Fj=f4 | writer_j=add1\n",
      "[DEBUG] Dependência encontrada: writer_inst={'id': 0, 'inst': 'fadd f4, f5, f7', 'opcode': 2, 'fu_name': 'add1', 'fu_type': 2, 'rd': 'f4', 'rs1': 'f5', 'rs2': 'f7', 'imm': None, 'issue': 1, 'read_operands': 2, 'execution_complete': None, 'write_result': None}\n",
      "\n",
      "[ISSUE] Tentando emitir instrução 2: fadd f4, f5, f7\n",
      "  Checando FU add1 (Opcode esperado=2, FU Opcode=2, Busy=True)\n",
      "    -> Falha: FU add1 ocupada (Busy=True)\n",
      "  Checando FU add2 (Opcode esperado=2, FU Opcode=2, Busy=True)\n",
      "    -> Falha: FU add2 ocupada (Busy=True)\n",
      "  -> Nenhuma FU disponível para emitir instrução 2\n",
      "--> Instr 2 NÃO pôde ser emitida\n",
      "\n",
      "--- Cycle 4 ---\n",
      "PC = 2\n",
      "INFO: Instrução 'fadd f4, f5, f7' está executando. Ciclos restantes: 0.\n",
      "OK: Instrução 'fadd f4, f5, f7' completou a execução.\n",
      "\n",
      "[DEBUG] Ciclo 4 - Checando instrução 'fsub f15, f4, f31' (FU=add2)\n",
      "[DEBUG] Estado inicial da FU add2: {'Opcode': 2, 'Busy': True, 'Op': 1, 'Fi': 'f15', 'Fj': 'f4', 'Fk': 'f31', 'Qj': 'add1', 'Qk': None, 'Rj': False, 'Rk': True, 'Cycles_left': 2, 'Cycles': 2}\n",
      "[DEBUG] FU=add2 -> Registrador Fj=f4 | writer_j=add1\n",
      "[DEBUG] Dependência encontrada: writer_inst={'id': 0, 'inst': 'fadd f4, f5, f7', 'opcode': 2, 'fu_name': 'add1', 'fu_type': 2, 'rd': 'f4', 'rs1': 'f5', 'rs2': 'f7', 'imm': None, 'issue': 1, 'read_operands': 2, 'execution_complete': 4, 'write_result': None}\n",
      "\n",
      "[ISSUE] Tentando emitir instrução 2: fadd f4, f5, f7\n",
      "  Checando FU add1 (Opcode esperado=2, FU Opcode=2, Busy=True)\n",
      "    -> Falha: FU add1 ocupada (Busy=True)\n",
      "  Checando FU add2 (Opcode esperado=2, FU Opcode=2, Busy=True)\n",
      "    -> Falha: FU add2 ocupada (Busy=True)\n",
      "  -> Nenhuma FU disponível para emitir instrução 2\n",
      "--> Instr 2 NÃO pôde ser emitida\n",
      "\n",
      "--- Cycle 5 ---\n",
      "PC = 2\n",
      "OK: Instrução 'fadd f4, f5, f7' fez Write Back.\n",
      "Liberando registrador de destino f4\n",
      "[DEBUG] Ciclo 5: leitura bloqueada porque houve write\n",
      "\n",
      "--- Cycle 6 ---\n",
      "PC = 2\n",
      "\n",
      "[DEBUG] Ciclo 6 - Checando instrução 'fsub f15, f4, f31' (FU=add2)\n",
      "[DEBUG] Estado inicial da FU add2: {'Opcode': 2, 'Busy': True, 'Op': 1, 'Fi': 'f15', 'Fj': 'f4', 'Fk': 'f31', 'Qj': 'add1', 'Qk': None, 'Rj': False, 'Rk': True, 'Cycles_left': 2, 'Cycles': 2}\n",
      "[DEBUG] FU=add2 -> Registrador Fj=f4 | writer_j=None\n",
      "[DEBUG] Fj livre -> FU['Rj'] = True, Qj=None\n",
      "[SUCCESS] Ciclo 6: Instrução 'fsub f15, f4, f31' leu os operandos.\n",
      "[DEBUG] Estado final da FU add2: {'Opcode': 2, 'Busy': True, 'Op': 1, 'Fi': 'f15', 'Fj': 'f4', 'Fk': 'f31', 'Qj': None, 'Qk': None, 'Rj': False, 'Rk': False, 'Cycles_left': 2, 'Cycles': 2}\n",
      "\n",
      "[ISSUE] Tentando emitir instrução 2: fadd f4, f5, f7\n",
      "  Checando FU add1 (Opcode esperado=2, FU Opcode=2, Busy=False)\n",
      "    -> Sucesso: Instr 2 emitida na FU add1\n",
      "--> Instr 2 emitida\n",
      "\n",
      "--- Cycle 7 ---\n",
      "PC = 3\n",
      "INFO: Instrução 'fsub f15, f4, f31' está executando. Ciclos restantes: 1.\n",
      "\n",
      "[DEBUG] Ciclo 7 - Checando instrução 'fadd f4, f5, f7' (FU=add1)\n",
      "[DEBUG] Estado inicial da FU add1: {'Opcode': 2, 'Busy': True, 'Op': 2, 'Fi': 'f4', 'Fj': 'f5', 'Fk': 'f7', 'Qj': None, 'Qk': None, 'Rj': True, 'Rk': True, 'Cycles_left': 2, 'Cycles': 2}\n",
      "[SUCCESS] Ciclo 7: Instrução 'fadd f4, f5, f7' leu os operandos.\n",
      "[DEBUG] Estado final da FU add1: {'Opcode': 2, 'Busy': True, 'Op': 2, 'Fi': 'f4', 'Fj': 'f5', 'Fk': 'f7', 'Qj': None, 'Qk': None, 'Rj': False, 'Rk': False, 'Cycles_left': 2, 'Cycles': 2}\n",
      "\n",
      "--- Cycle 8 ---\n",
      "PC = 3\n",
      "INFO: Instrução 'fsub f15, f4, f31' está executando. Ciclos restantes: 0.\n",
      "OK: Instrução 'fsub f15, f4, f31' completou a execução.\n",
      "INFO: Instrução 'fadd f4, f5, f7' está executando. Ciclos restantes: 1.\n",
      "\n",
      "--- Cycle 9 ---\n",
      "PC = 3\n",
      "OK: Instrução 'fsub f15, f4, f31' fez Write Back.\n",
      "Liberando registrador de destino f15\n",
      "INFO: Instrução 'fadd f4, f5, f7' está executando. Ciclos restantes: 0.\n",
      "OK: Instrução 'fadd f4, f5, f7' completou a execução.\n",
      "\n",
      "--- Cycle 10 ---\n",
      "PC = 3\n",
      "OK: Instrução 'fadd f4, f5, f7' fez Write Back.\n",
      "Liberando registrador de destino f4\n"
     ]
    }
   ],
   "source": [
    "register_status = ini_register_status()\n",
    "instruction_status = init_instruction_status(prog_file)\n",
    "fus_status = init_fus_status(fus_file)\n",
    "pc = 0\n",
    "cycle = 1\n",
    "\n",
    "while pc < len(instruction_status) or has_pending_instructions(instruction_status):\n",
    "    print(f\"\\n--- Cycle {cycle} ---\")\n",
    "    print(f\"PC = {pc}\")\n",
    "    liberar_write = False\n",
    "    # WRITE RESULTS\n",
    "    for inst in instruction_status:\n",
    "        if inst['execution_complete'] is not None and inst['execution_complete'] < cycle and inst['write_result'] is None:\n",
    "            write_results(fus_status, inst, cycle, register_status)\n",
    "            liberar_write = True\n",
    "            \n",
    "    for inst in instruction_status:\n",
    "        if inst['read_operands'] is not None and inst['read_operands'] < cycle and inst['execution_complete'] is None:\n",
    "            fu = fus_status[inst['fu_name']]\n",
    "            execute(fu, cycle, inst)\n",
    "\n",
    "    # 1. Read operands\n",
    "    for inst in instruction_status:\n",
    "        if inst['issue'] is not None and inst['read_operands'] is None:\n",
    "            if liberar_write:\n",
    "                print(f\"[DEBUG] Ciclo {cycle}: leitura bloqueada porque houve write\")\n",
    "                continue  # pula leitura neste ciclo\n",
    "            \n",
    "            print(f\"\\n[DEBUG] Ciclo {cycle} - Checando instrução '{inst['inst']}' (FU={inst['fu_name']})\")\n",
    "\n",
    "            fu = fus_status[inst['fu_name']]\n",
    "            read_operands(fu, inst, register_status, instruction_status, cycle)\n",
    "\n",
    "    # 2. Issue\n",
    "    if pc < len(instruction_status):\n",
    "        if not liberar_write:\n",
    "            next_instruction = instruction_status[pc]\n",
    "            if issue(next_instruction, fus_status, register_status):\n",
    "                next_instruction['issue'] = cycle\n",
    "                print(f\"--> Instr {next_instruction['id']} emitida\")\n",
    "                pc += 1\n",
    "            else:\n",
    "                print(f\"--> Instr {next_instruction['id']} NÃO pôde ser emitida\")\n",
    "                # print(issue(next_instruction, fus_status, register_status))\n",
    "\n",
    "    cycle += 1\n"
   ]
  },
  {
   "cell_type": "code",
   "execution_count": null,
   "id": "7d917417",
   "metadata": {},
   "outputs": [],
   "source": []
  },
  {
   "cell_type": "markdown",
   "id": "10b049d8",
   "metadata": {},
   "source": [
    "## Print Resultado"
   ]
  },
  {
   "cell_type": "code",
   "execution_count": 16,
   "id": "71fdbd8b",
   "metadata": {},
   "outputs": [],
   "source": [
    "import pandas as pd\n",
    "\n",
    "def formatar_tabela_scoreboard(instruction_status):\n",
    "    df = pd.DataFrame(instruction_status)\n",
    "    tabela_final = df[['inst', 'issue', 'read_operands', 'execution_complete', 'write_result']]\n",
    "\n",
    "    tabela_final = tabela_final.rename(columns={\n",
    "        'inst': 'Instruction/Cicle',\n",
    "        'issue': 'Issue',\n",
    "        'read_operands': 'Read',\n",
    "        'execution_complete': 'Execute', \n",
    "        'write_result': 'Write'\n",
    "    })\n",
    "\n",
    "    tabela_final = tabela_final.fillna(\"-\")\n",
    "\n",
    "    return tabela_final"
   ]
  },
  {
   "cell_type": "code",
   "execution_count": 24,
   "id": "bafa925c",
   "metadata": {},
   "outputs": [
    {
     "name": "stdout",
     "output_type": "stream",
     "text": [
      "Instruction/Cicle  Issue  Read  Execute  Write\n",
      "  fadd f4, f5, f7      1     2        4      5\n",
      "fsub f15, f4, f31      2     6        8      9\n",
      "  fadd f4, f5, f7      6     7        9     10\n"
     ]
    }
   ],
   "source": [
    "tabela_de_resultados = formatar_tabela_scoreboard(instruction_status)\n",
    "print(tabela_de_resultados.to_string(index=False))"
   ]
  }
 ],
 "metadata": {
  "kernelspec": {
   "display_name": "ambiente",
   "language": "python",
   "name": "python3"
  },
  "language_info": {
   "codemirror_mode": {
    "name": "ipython",
    "version": 3
   },
   "file_extension": ".py",
   "mimetype": "text/x-python",
   "name": "python",
   "nbconvert_exporter": "python",
   "pygments_lexer": "ipython3",
   "version": "3.13.3"
  }
 },
 "nbformat": 4,
 "nbformat_minor": 5
}
