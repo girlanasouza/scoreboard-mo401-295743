{
 "cells": [
  {
   "cell_type": "code",
   "execution_count": 52,
   "id": "a13b4c69",
   "metadata": {},
   "outputs": [],
   "source": [
    "import pandas as pd"
   ]
  },
  {
   "cell_type": "markdown",
   "id": "bb388f61",
   "metadata": {},
   "source": [
    "## Register Status"
   ]
  },
  {
   "cell_type": "code",
   "execution_count": 53,
   "id": "46f8c36e",
   "metadata": {},
   "outputs": [
    {
     "data": {
      "text/plain": [
       "{'x0': {'x': 0, 'x_type': 'int', 'writer': None},\n",
       " 'x1': {'x': 1, 'x_type': 'int', 'writer': None},\n",
       " 'x2': {'x': 2, 'x_type': 'int', 'writer': None},\n",
       " 'x3': {'x': 3, 'x_type': 'int', 'writer': None},\n",
       " 'x4': {'x': 4, 'x_type': 'int', 'writer': None},\n",
       " 'x5': {'x': 5, 'x_type': 'int', 'writer': None},\n",
       " 'x6': {'x': 6, 'x_type': 'int', 'writer': None},\n",
       " 'x7': {'x': 7, 'x_type': 'int', 'writer': None},\n",
       " 'x8': {'x': 8, 'x_type': 'int', 'writer': None},\n",
       " 'x9': {'x': 9, 'x_type': 'int', 'writer': None},\n",
       " 'x10': {'x': 10, 'x_type': 'int', 'writer': None},\n",
       " 'x11': {'x': 11, 'x_type': 'int', 'writer': None},\n",
       " 'x12': {'x': 12, 'x_type': 'int', 'writer': None},\n",
       " 'x13': {'x': 13, 'x_type': 'int', 'writer': None},\n",
       " 'x14': {'x': 14, 'x_type': 'int', 'writer': None},\n",
       " 'x15': {'x': 15, 'x_type': 'int', 'writer': None},\n",
       " 'x16': {'x': 16, 'x_type': 'int', 'writer': None},\n",
       " 'x17': {'x': 17, 'x_type': 'int', 'writer': None},\n",
       " 'x18': {'x': 18, 'x_type': 'int', 'writer': None},\n",
       " 'x19': {'x': 19, 'x_type': 'int', 'writer': None},\n",
       " 'x20': {'x': 20, 'x_type': 'int', 'writer': None},\n",
       " 'x21': {'x': 21, 'x_type': 'int', 'writer': None},\n",
       " 'x22': {'x': 22, 'x_type': 'int', 'writer': None},\n",
       " 'x23': {'x': 23, 'x_type': 'int', 'writer': None},\n",
       " 'x24': {'x': 24, 'x_type': 'int', 'writer': None},\n",
       " 'x25': {'x': 25, 'x_type': 'int', 'writer': None},\n",
       " 'x26': {'x': 26, 'x_type': 'int', 'writer': None},\n",
       " 'x27': {'x': 27, 'x_type': 'int', 'writer': None},\n",
       " 'x28': {'x': 28, 'x_type': 'int', 'writer': None},\n",
       " 'x29': {'x': 29, 'x_type': 'int', 'writer': None},\n",
       " 'x30': {'x': 30, 'x_type': 'int', 'writer': None},\n",
       " 'x31': {'x': 31, 'x_type': 'int', 'writer': None},\n",
       " 'f0': {'f': 0, 'f_type': 'float', 'writer': None},\n",
       " 'f1': {'f': 1, 'f_type': 'float', 'writer': None},\n",
       " 'f2': {'f': 2, 'f_type': 'float', 'writer': None},\n",
       " 'f3': {'f': 3, 'f_type': 'float', 'writer': None},\n",
       " 'f4': {'f': 4, 'f_type': 'float', 'writer': None},\n",
       " 'f5': {'f': 5, 'f_type': 'float', 'writer': None},\n",
       " 'f6': {'f': 6, 'f_type': 'float', 'writer': None},\n",
       " 'f7': {'f': 7, 'f_type': 'float', 'writer': None},\n",
       " 'f8': {'f': 8, 'f_type': 'float', 'writer': None},\n",
       " 'f9': {'f': 9, 'f_type': 'float', 'writer': None},\n",
       " 'f10': {'f': 10, 'f_type': 'float', 'writer': None},\n",
       " 'f11': {'f': 11, 'f_type': 'float', 'writer': None},\n",
       " 'f12': {'f': 12, 'f_type': 'float', 'writer': None},\n",
       " 'f13': {'f': 13, 'f_type': 'float', 'writer': None},\n",
       " 'f14': {'f': 14, 'f_type': 'float', 'writer': None},\n",
       " 'f15': {'f': 15, 'f_type': 'float', 'writer': None},\n",
       " 'f16': {'f': 16, 'f_type': 'float', 'writer': None},\n",
       " 'f17': {'f': 17, 'f_type': 'float', 'writer': None},\n",
       " 'f18': {'f': 18, 'f_type': 'float', 'writer': None},\n",
       " 'f19': {'f': 19, 'f_type': 'float', 'writer': None},\n",
       " 'f20': {'f': 20, 'f_type': 'float', 'writer': None},\n",
       " 'f21': {'f': 21, 'f_type': 'float', 'writer': None},\n",
       " 'f22': {'f': 22, 'f_type': 'float', 'writer': None},\n",
       " 'f23': {'f': 23, 'f_type': 'float', 'writer': None},\n",
       " 'f24': {'f': 24, 'f_type': 'float', 'writer': None},\n",
       " 'f25': {'f': 25, 'f_type': 'float', 'writer': None},\n",
       " 'f26': {'f': 26, 'f_type': 'float', 'writer': None},\n",
       " 'f27': {'f': 27, 'f_type': 'float', 'writer': None},\n",
       " 'f28': {'f': 28, 'f_type': 'float', 'writer': None},\n",
       " 'f29': {'f': 29, 'f_type': 'float', 'writer': None},\n",
       " 'f30': {'f': 30, 'f_type': 'float', 'writer': None},\n",
       " 'f31': {'f': 31, 'f_type': 'float', 'writer': None}}"
      ]
     },
     "execution_count": 53,
     "metadata": {},
     "output_type": "execute_result"
    }
   ],
   "source": [
    "register_status = {}\n",
    "\n",
    "# Registradores inteiros (x0..x31)\n",
    "for i in range(32):\n",
    "    register_status[f\"x{i}\"] = {\"x\": i, \"x_type\": \"int\", \"writer\": None}\n",
    "\n",
    "# Registradores de ponto flutuante (f0..f31)\n",
    "for i in range(32):\n",
    "    register_status[f\"f{i}\"] = {\"f\": i, \"f_type\": \"float\", \"writer\": None}\n",
    "\n",
    "register_status\n"
   ]
  },
  {
   "cell_type": "markdown",
   "id": "3ba015fc",
   "metadata": {},
   "source": [
    "## Parser das instruções"
   ]
  },
  {
   "cell_type": "code",
   "execution_count": 85,
   "id": "d7f8594f",
   "metadata": {},
   "outputs": [
    {
     "name": "stdout",
     "output_type": "stream",
     "text": [
      "{'instr': {'opcode': 0, 'rs1': 1, 'rs1_type': 'int', 'rs2': 0, 'rs2_type': None, 'rd': 1, 'rd_type': 'float', 'imm': 0}, 'issue': None, 'read': None, 'exec': None, 'write': None}\n",
      "{'instr': {'opcode': 0, 'rs1': 1, 'rs1_type': 'int', 'rs2': 0, 'rs2_type': None, 'rd': 5, 'rd_type': 'float', 'imm': 0}, 'issue': None, 'read': None, 'exec': None, 'write': None}\n",
      "{'instr': {'opcode': 5, 'rs1': 4, 'rs1_type': 'float', 'rs2': 5, 'rs2_type': 'float', 'rd': 2, 'rd_type': 'float', 'imm': None}, 'issue': None, 'read': None, 'exec': None, 'write': None}\n",
      "{'instr': {'opcode': 4, 'rs1': 8, 'rs1_type': 'float', 'rs2': 9, 'rs2_type': 'float', 'rd': 4, 'rd_type': 'float', 'imm': None}, 'issue': None, 'read': None, 'exec': None, 'write': None}\n",
      "{'instr': {'opcode': 2, 'rs1': 2, 'rs1_type': 'float', 'rs2': 3, 'rs2_type': 'float', 'rd': 1, 'rd_type': 'float', 'imm': None}, 'issue': None, 'read': None, 'exec': None, 'write': None}\n",
      "{'instr': {'opcode': 1, 'rs1': 2, 'rs1_type': 'int', 'rs2': 4, 'rs2_type': 'float', 'rd': 0, 'rd_type': None, 'imm': 0}, 'issue': None, 'read': None, 'exec': None, 'write': None}\n"
     ]
    }
   ],
   "source": [
    "import parser_inst\n",
    "inst_status = []\n",
    "instructions = parser_inst.parse_instructions(\"tests/ex.s\")\n",
    "for i, inst in enumerate(instructions):\n",
    "    inst_status.append({f\"instr\": inst, \"issue\": None, \"read\": None, \"exec\": None, \"write\": None})\n",
    "for i in inst_status:\n",
    "    print(i)"
   ]
  },
  {
   "cell_type": "markdown",
   "id": "43f902aa",
   "metadata": {},
   "source": [
    "## Parser das functionals units"
   ]
  },
  {
   "cell_type": "code",
   "execution_count": 87,
   "id": "72e6e1aa",
   "metadata": {},
   "outputs": [
    {
     "data": {
      "text/plain": [
       "{'int': {'qtd': '2', 'cycles': '1'}, 'div': {'qtd': '1', 'cycles': '10'}}"
      ]
     },
     "execution_count": 87,
     "metadata": {},
     "output_type": "execute_result"
    }
   ],
   "source": [
    "fus_configs = {}\n",
    "with open(\"tests/uf_config2.in\", 'r') as f:\n",
    "    linhas = f.readlines()\n",
    "    for linha in linhas:\n",
    "        partes = linha.strip().split()\n",
    "        fus_configs[partes[0]] = {'qtd': partes[1], 'cycles': partes[2]}\n",
    "fus_configs"
   ]
  },
  {
   "cell_type": "code",
   "execution_count": 95,
   "id": "c0919582",
   "metadata": {},
   "outputs": [],
   "source": [
    "fus_status = {}\n",
    "for uf_type, config in fus_configs.items():\n",
    "    if uf_type == 'int':\n",
    "        op = 0\n",
    "    elif uf_type == 'mult':\n",
    "        op = 1\n",
    "    elif uf_type == 'add':\n",
    "        op = 2\n",
    "    elif uf_type == 'div':\n",
    "        op = 3\n",
    "    for c in range(int(config['qtd'])):\n",
    "        fus_status[f'{uf_type}{c+1}'] = {\n",
    "            'Opcode': op, \n",
    "            'Busy': False, \n",
    "            'Op': None, \n",
    "            'Fi': None,\n",
    "            'Fj': None, \n",
    "            'Fk': None, \n",
    "            'Qj': None, \n",
    "            'Qk': None,\n",
    "            'Rj': False, \n",
    "            'Rk': False, \n",
    "            'Cycles_left': int(config['cycles']), \n",
    "            'Cycles': int(config['cycles'])\n",
    "        }\n",
    "        "
   ]
  },
  {
   "cell_type": "code",
   "execution_count": 96,
   "id": "043f71ee",
   "metadata": {},
   "outputs": [
    {
     "data": {
      "text/plain": [
       "{'int1': {'Opcode': 0,\n",
       "  'Busy': False,\n",
       "  'Op': None,\n",
       "  'Fi': None,\n",
       "  'Fj': None,\n",
       "  'Fk': None,\n",
       "  'Qj': None,\n",
       "  'Qk': None,\n",
       "  'Rj': False,\n",
       "  'Rk': False,\n",
       "  'Cycles_left': 1,\n",
       "  'Cycles': 1},\n",
       " 'int2': {'Opcode': 0,\n",
       "  'Busy': False,\n",
       "  'Op': None,\n",
       "  'Fi': None,\n",
       "  'Fj': None,\n",
       "  'Fk': None,\n",
       "  'Qj': None,\n",
       "  'Qk': None,\n",
       "  'Rj': False,\n",
       "  'Rk': False,\n",
       "  'Cycles_left': 1,\n",
       "  'Cycles': 1},\n",
       " 'div1': {'Opcode': 3,\n",
       "  'Busy': False,\n",
       "  'Op': None,\n",
       "  'Fi': None,\n",
       "  'Fj': None,\n",
       "  'Fk': None,\n",
       "  'Qj': None,\n",
       "  'Qk': None,\n",
       "  'Rj': False,\n",
       "  'Rk': False,\n",
       "  'Cycles_left': 10,\n",
       "  'Cycles': 10}}"
      ]
     },
     "execution_count": 96,
     "metadata": {},
     "output_type": "execute_result"
    }
   ],
   "source": [
    "fus_status"
   ]
  },
  {
   "cell_type": "markdown",
   "id": "2e412a3f",
   "metadata": {},
   "source": [
    "## Tabela Resultado"
   ]
  },
  {
   "cell_type": "code",
   "execution_count": 58,
   "id": "300c04cc",
   "metadata": {},
   "outputs": [],
   "source": [
    "stages = {\n",
    "    \"Header\": [\"Instruction/Cycle\", \"Issue\", \"Read\", \"Execute\", \"Write\"],\n",
    "    \"Instruction/Cicle\": [None]*len(inst_status),\n",
    "    \"Issue\": [None]*len(inst_status),\n",
    "    \"Read\": [None]*len(inst_status),\n",
    "    \"Execute\": [None]*len(inst_status),\n",
    "    \"Write\": [None]*len(inst_status)\n",
    "}"
   ]
  },
  {
   "cell_type": "markdown",
   "id": "f37b3d53",
   "metadata": {},
   "source": [
    "## ISSUE"
   ]
  },
  {
   "cell_type": "markdown",
   "id": "1659df50",
   "metadata": {},
   "source": [
    "Verificar se a unidade funcional requerida está livre -- sem hazards estruturais\n",
    "    \n",
    "    Functional unit status -- verificada aqui\n",
    "\n",
    "Verificar se nenhuma outra instrução vai escrever no rd -- sem WAW hazards\n",
    "    \n",
    "    Register Status -- verificado aqui"
   ]
  },
  {
   "cell_type": "code",
   "execution_count": 98,
   "id": "76d65b83",
   "metadata": {},
   "outputs": [
    {
     "data": {
      "text/plain": [
       "{'opcode': 0,\n",
       " 'rs1': 1,\n",
       " 'rs1_type': 'int',\n",
       " 'rs2': 0,\n",
       " 'rs2_type': None,\n",
       " 'rd': 1,\n",
       " 'rd_type': 'float',\n",
       " 'imm': 0}"
      ]
     },
     "execution_count": 98,
     "metadata": {},
     "output_type": "execute_result"
    }
   ],
   "source": [
    "pc = 0\n",
    "inst_info = inst_status[pc]['instr']\n",
    "inst_info"
   ]
  },
  {
   "cell_type": "code",
   "execution_count": 90,
   "id": "5539c408",
   "metadata": {},
   "outputs": [],
   "source": [
    "instr = inst_status[0]['instr']\n",
    "opcode = instr['opcode']\n",
    "rs1 = instr['rs1']\n",
    "rs1_type = instr['rs1_type']\n",
    "rs2 = instr['rs2']\n",
    "rs2_type = instr['rs2_type']\n",
    "rd = instr['rd']\n",
    "rd_type = instr['rd_type']\n",
    "\n",
    "prefix_rd = \"x\" if rd_type == \"int\" else \"f\"\n",
    "key_rd = f\"{prefix_rd}{rd}\"\n",
    "\n",
    "prefix_rs1 = \"x\" if rs1_type == \"int\" else \"f\"\n",
    "key_rs1 = f\"{prefix_rs1}{rs1}\"\n",
    "\n",
    "prefix_rs2 = \"x\" if rs2_type == \"int\" else \"f\"\n",
    "key_rs2 = f\"{prefix_rs2}{rs2}\""
   ]
  },
  {
   "cell_type": "code",
   "execution_count": 104,
   "id": "dc61e0ad",
   "metadata": {},
   "outputs": [],
   "source": [
    "idx = 0  # ou o índice correto da instrução que está sendo processada\n",
    "opcodes = {0, 1, 2, 3, 4, 5} \n",
    "\n",
    "for fu_name, fu in fus_status.items():\n",
    "    if fu['Opcode'] != opcode or fu['Busy']:\n",
    "        continue\n",
    "    if  register_status[key_rd]['writer'] is not None:\n",
    "        continue\n",
    "    fu['Busy'] = True\n",
    "    fu['Op'] = opcode\n",
    "    fu['Fi'] = key_rd if opcode in opcodes else None\n",
    "    fu['Fj'] = key_rs1\n",
    "    fu['Fk'] = key_rs2\n",
    "    fu['Qj'] = register_status[key_rs1]['writer']\n",
    "    fu['Qk'] = register_status[key_rs2]['writer']\n",
    "    fu['Rj'] = fu['Qj'] is None\n",
    "    fu['Rk'] = fu['Qk'] is None\n",
    "    fu['CyclesLeft'] = fu['Cycles']\n",
    "    \n",
    "    if opcode in opcodes:\n",
    "        register_status[key_rd]['writer'] = fu_name\n",
    "\n",
    "    inst_status[idx]['issue'] = 1\n",
    "    stages['Instruction/Cicle'][idx] = inst_status[idx]['instr']\n",
    "    stages['Issue'][idx] = inst_status[idx]['issue']"
   ]
  },
  {
   "cell_type": "code",
   "execution_count": 105,
   "id": "1c0129ff",
   "metadata": {},
   "outputs": [
    {
     "data": {
      "text/plain": [
       "{'int1': {'Opcode': 0,\n",
       "  'Busy': False,\n",
       "  'Op': None,\n",
       "  'Fi': None,\n",
       "  'Fj': None,\n",
       "  'Fk': None,\n",
       "  'Qj': None,\n",
       "  'Qk': None,\n",
       "  'Rj': False,\n",
       "  'Rk': False,\n",
       "  'Cycles_left': 1,\n",
       "  'Cycles': 1},\n",
       " 'int2': {'Opcode': 0,\n",
       "  'Busy': False,\n",
       "  'Op': None,\n",
       "  'Fi': None,\n",
       "  'Fj': None,\n",
       "  'Fk': None,\n",
       "  'Qj': None,\n",
       "  'Qk': None,\n",
       "  'Rj': False,\n",
       "  'Rk': False,\n",
       "  'Cycles_left': 1,\n",
       "  'Cycles': 1},\n",
       " 'div1': {'Opcode': 3,\n",
       "  'Busy': False,\n",
       "  'Op': None,\n",
       "  'Fi': None,\n",
       "  'Fj': None,\n",
       "  'Fk': None,\n",
       "  'Qj': None,\n",
       "  'Qk': None,\n",
       "  'Rj': False,\n",
       "  'Rk': False,\n",
       "  'Cycles_left': 10,\n",
       "  'Cycles': 10}}"
      ]
     },
     "execution_count": 105,
     "metadata": {},
     "output_type": "execute_result"
    }
   ],
   "source": [
    "fus_status"
   ]
  },
  {
   "cell_type": "code",
   "execution_count": null,
   "id": "550a5606",
   "metadata": {},
   "outputs": [],
   "source": [
    "opcodes = {0, 1, 2, 3, 4, 5} \n",
    "\n",
    "def issue_instruction(idx, opcode, key_rd, key_rs1, key_rs2, fus, register_status, inst_status, stages):\n",
    "    for fu_name, fu in fus.items():\n",
    "        if fu['Opcode'] != opcode or fu['Busy']:\n",
    "            continue\n",
    "\n",
    "        if  register_status[key_rd]['writer'] is not None:\n",
    "            continue\n",
    "\n",
    "        # Reserva FU\n",
    "        fu['Busy'] = True\n",
    "        fu['Op'] = opcode\n",
    "        fu['Fi'] = key_rd if opcode in opcodes else None\n",
    "        fu['Fj'] = key_rs1\n",
    "        fu['Fk'] = key_rs2\n",
    "        fu['Qj'] = register_status[key_rs1]['writer']\n",
    "        fu['Qk'] = register_status[key_rs2]['writer']\n",
    "        fu['Rj'] = fu['Qj'] is None\n",
    "        fu['Rk'] = fu['Qk'] is None\n",
    "        fu['CyclesLeft'] = fu['Cycles']\n",
    "\n",
    "        # Atualiza status de registrador destino\n",
    "        if opcode in opcodes:\n",
    "            register_status[key_rd]['writer'] = fu_name\n",
    "\n",
    "        # Atualiza status da instrução e estágios\n",
    "        inst_status[idx]['issue'] = 1\n",
    "        stages['Instruction/Cicle'][idx] = inst_status[idx]['instr']\n",
    "        stages['Issue'][idx] = inst_status[idx]['issue']\n",
    "\n",
    "        return True  # instrução foi emitida com sucesso\n",
    "\n",
    "    return False  # nenhuma FU disponível\n"
   ]
  },
  {
   "cell_type": "code",
   "execution_count": 116,
   "id": "7476678a",
   "metadata": {},
   "outputs": [
    {
     "name": "stdout",
     "output_type": "stream",
     "text": [
      "False\n",
      "False\n",
      "False\n"
     ]
    }
   ],
   "source": [
    "for fu_name, fu in fus_status.items():\n",
    "    print(fu['Busy'])\n",
    "    if fu['Busy']:\n",
    "        print(fu)"
   ]
  },
  {
   "cell_type": "code",
   "execution_count": null,
   "id": "cfa46ea7",
   "metadata": {},
   "outputs": [],
   "source": [
    "register_status[key_rd]"
   ]
  },
  {
   "cell_type": "markdown",
   "id": "88d96b00",
   "metadata": {},
   "source": [
    "fld f1, 0(x1)\n",
    "\n",
    "Op=0\n",
    "\n",
    "Fi: f1\n",
    "Fj: x1\n",
    "Fk: -\n",
    "Qj: -\n",
    "Qk: -\n",
    "Rj: Yes\n",
    "Rk: Yes"
   ]
  },
  {
   "cell_type": "code",
   "execution_count": null,
   "id": "398cc9b8",
   "metadata": {},
   "outputs": [],
   "source": []
  },
  {
   "cell_type": "markdown",
   "id": "70bd7c83",
   "metadata": {},
   "source": [
    "## Scoreboard"
   ]
  },
  {
   "cell_type": "markdown",
   "id": "c5f896cf",
   "metadata": {},
   "source": [
    "### Montando a instrução novamente"
   ]
  },
  {
   "cell_type": "code",
   "execution_count": 117,
   "id": "8d66fc1f",
   "metadata": {},
   "outputs": [],
   "source": [
    "def any_fu_busy(fus):\n",
    "    for fu_name, fu in fus.items():\n",
    "        if fu['Busy']:\n",
    "            return True\n",
    "    return False"
   ]
  },
  {
   "cell_type": "code",
   "execution_count": null,
   "id": "a6360ad9",
   "metadata": {},
   "outputs": [
    {
     "ename": "IndentationError",
     "evalue": "unexpected indent (3646997655.py, line 5)",
     "output_type": "error",
     "traceback": [
      "  \u001b[36mCell\u001b[39m\u001b[36m \u001b[39m\u001b[32mIn[118]\u001b[39m\u001b[32m, line 5\u001b[39m\n\u001b[31m    \u001b[39m\u001b[31mwhile pc < len(inst_status) or any_fu_busy(fus_status):\u001b[39m\n    ^\n\u001b[31mIndentationError\u001b[39m\u001b[31m:\u001b[39m unexpected indent\n"
     ]
    }
   ],
   "source": [
    "cycle = 0\n",
    "pc = 0\n",
    "\n",
    "while pc < len(inst_status) or any_fu_busy(fus_status):\n",
    "    cycle += 1\n",
    "    print\n",
    "    # # Tenta emitir a próxima instrução\n",
    "    # if pc < len(inst_status):\n",
    "    #     if issue_instruction(pc, cycle, inst_status, fus, register_status, inst_status):\n",
    "    #         pc += 1 # Avança o PC somente se a emissão for bem-sucedida"
   ]
  },
  {
   "cell_type": "code",
   "execution_count": null,
   "id": "2b67a446",
   "metadata": {},
   "outputs": [],
   "source": [
    "for idx, i in enumerate(stages['Instruction/Cicle']):\n",
    "    if i is not None:\n",
    "        if i['opcode'] == 0:\n",
    "            rd = f\"f{i['rd']}\" if i['rd_type'] == 'float' else f\"x{i['rd']}\"\n",
    "            rs1 = f\"f{i['rs1']}\" if i['rs1_type'] == 'float' else f\"x{i['rs1']}\"\n",
    "            imm = i.get('imm', 0)\n",
    "            i_mont = f\"fld {rd}, {imm}({rs1})\"\n",
    "            stages['Instruction/Cicle'][idx] = i_mont \n"
   ]
  },
  {
   "cell_type": "code",
   "execution_count": null,
   "id": "e636c269",
   "metadata": {},
   "outputs": [],
   "source": [
    "df_stages = pd.DataFrame({\n",
    "    \"Instruction/Cycle\": stages[\"Instruction/Cicle\"],\n",
    "    \"Issue\": stages[\"Issue\"],\n",
    "    \"Read\": stages[\"Read\"],\n",
    "    \"Execute\": stages[\"Execute\"],\n",
    "    \"Write\": stages[\"Write\"]\n",
    "})\n",
    "\n",
    "# df_stages[\"Issue\"] = df_stages[\"Issue\"].astype(\"Int64\")\n",
    "\n",
    "# df_stages.style.hide(axis=\"index\")\n",
    "print(df_stages.to_string(index=False))"
   ]
  },
  {
   "cell_type": "code",
   "execution_count": null,
   "id": "ab3e9e20",
   "metadata": {},
   "outputs": [],
   "source": []
  }
 ],
 "metadata": {
  "kernelspec": {
   "display_name": "ambiente",
   "language": "python",
   "name": "python3"
  },
  "language_info": {
   "codemirror_mode": {
    "name": "ipython",
    "version": 3
   },
   "file_extension": ".py",
   "mimetype": "text/x-python",
   "name": "python",
   "nbconvert_exporter": "python",
   "pygments_lexer": "ipython3",
   "version": "3.13.3"
  }
 },
 "nbformat": 4,
 "nbformat_minor": 5
}
