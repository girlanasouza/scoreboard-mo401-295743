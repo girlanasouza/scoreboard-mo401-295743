{
 "cells": [
  {
   "cell_type": "code",
   "execution_count": 1,
   "id": "a13b4c69",
   "metadata": {},
   "outputs": [],
   "source": [
    "import pandas as pd"
   ]
  },
  {
   "cell_type": "markdown",
   "id": "bb388f61",
   "metadata": {},
   "source": [
    "## Register Status"
   ]
  },
  {
   "cell_type": "code",
   "execution_count": 2,
   "id": "46f8c36e",
   "metadata": {},
   "outputs": [],
   "source": [
    "register_status = {}\n",
    "\n",
    "# Registradores inteiros (x0..x31)\n",
    "for i in range(32):\n",
    "    register_status[f\"x{i}\"] = {\"x\": i, \"x_type\": \"int\", \"writer\": None}\n",
    "\n",
    "# Registradores de ponto flutuante (f0..f31)\n",
    "for i in range(32):\n",
    "    register_status[f\"f{i}\"] = {\"f\": i, \"f_type\": \"float\", \"writer\": None}\n",
    "\n",
    "# register_status\n"
   ]
  },
  {
   "cell_type": "markdown",
   "id": "3ba015fc",
   "metadata": {},
   "source": [
    "## Parser das instruções"
   ]
  },
  {
   "cell_type": "code",
   "execution_count": 3,
   "id": "6fca31db",
   "metadata": {},
   "outputs": [],
   "source": [
    "OPCODES = {\n",
    "    'fld': 0,\n",
    "    'fsd': 1,\n",
    "    'fadd': 2,\n",
    "    'fsub': 3,\n",
    "    'fmul': 4,\n",
    "    'fdiv': 5\n",
    "}\n",
    "\n",
    "# Define register prefix constants\n",
    "REG_PREFIXES = {\n",
    "    'x': 'int',\n",
    "    'f': 'float'\n",
    "}"
   ]
  },
  {
   "cell_type": "code",
   "execution_count": 4,
   "id": "e2a4bd62",
   "metadata": {},
   "outputs": [],
   "source": [
    "instruction_status =[]\n",
    "with open(\"tests/ex.s\", \"r\") as file:\n",
    "    for i, line in enumerate(file):\n",
    "        op = OPCODES[line.split()[0]]\n",
    "        if (op == 0 or op == 1):\n",
    "            rd = line.split()[1].replace(\",\", \"\")\n",
    "            rs1 = line.split()[2].split(\"(\")[1].replace(\")\", \"\")\n",
    "            rs2 = None\n",
    "            imm = line.split()[2].split(\"(\")[0]\n",
    "        else:\n",
    "            rd = line.split()[1].replace(\",\", \"\")\n",
    "            rs1 = line.split()[2].replace(\",\", \"\")\n",
    "            rs2 = line.split()[3].replace(\",\", \"\")\n",
    "            imm = None          \n",
    "        instruction_status.append({ \n",
    "            \"inst\": line.replace(\"\\n\", \"\"),\n",
    "            \"opcode\": op,\n",
    "            \"rd\": rd,\n",
    "            \"rs1\": rs1,\n",
    "            \"rs2\": rs2,\n",
    "            \"imm\": imm,\n",
    "            \"issue\": None,\n",
    "            \"read_operands\": None,\n",
    "            \"execution_complete\": None,\n",
    "            \"write_result\": None,\n",
    "            \"issue\": None, \n",
    "            \"read\": None, \n",
    "            \"exec\": None, \n",
    "            \"write\": None\n",
    "\n",
    "        })\n"
   ]
  },
  {
   "cell_type": "markdown",
   "id": "43f902aa",
   "metadata": {},
   "source": [
    "## Parser das functionals units"
   ]
  },
  {
   "cell_type": "code",
   "execution_count": 5,
   "id": "72e6e1aa",
   "metadata": {},
   "outputs": [
    {
     "data": {
      "text/plain": [
       "{'int': {'qtd': '2', 'cycles': '1'}, 'div': {'qtd': '1', 'cycles': '10'}}"
      ]
     },
     "execution_count": 5,
     "metadata": {},
     "output_type": "execute_result"
    }
   ],
   "source": [
    "fus_configs = {}\n",
    "with open(\"tests/uf_config2.in\", 'r') as f:\n",
    "    linhas = f.readlines()\n",
    "    for linha in linhas:\n",
    "        partes = linha.strip().split()\n",
    "        fus_configs[partes[0]] = {'qtd': partes[1], 'cycles': partes[2]}\n",
    "fus_configs"
   ]
  },
  {
   "cell_type": "code",
   "execution_count": 6,
   "id": "c0919582",
   "metadata": {},
   "outputs": [],
   "source": [
    "fus_status = {}\n",
    "for uf_type, config in fus_configs.items():\n",
    "    if uf_type == 'int':\n",
    "        op = 0\n",
    "    elif uf_type == 'mult':\n",
    "        op = 1\n",
    "    elif uf_type == 'add':\n",
    "        op = 2\n",
    "    elif uf_type == 'div':\n",
    "        op = 3\n",
    "    for c in range(int(config['qtd'])):\n",
    "        fus_status[f'{uf_type}{c+1}'] = {\n",
    "            'Opcode': op, \n",
    "            'Busy': False, \n",
    "            'Op': None, \n",
    "            'Fi': None,\n",
    "            'Fj': None, \n",
    "            'Fk': None, \n",
    "            'Qj': None, \n",
    "            'Qk': None,\n",
    "            'Rj': False, \n",
    "            'Rk': False, \n",
    "            'Cycles_left': int(config['cycles']), \n",
    "            'Cycles': int(config['cycles'])\n",
    "        }\n",
    "        "
   ]
  },
  {
   "cell_type": "markdown",
   "id": "2e412a3f",
   "metadata": {},
   "source": [
    "## Tabela Resultado"
   ]
  },
  {
   "cell_type": "code",
   "execution_count": 8,
   "id": "300c04cc",
   "metadata": {},
   "outputs": [],
   "source": [
    "# stages = {\n",
    "#     \"Header\": [\"Instruction/Cycle\", \"Issue\", \"Read\", \"Execute\", \"Write\"],\n",
    "#     \"Instruction/Cicle\": [None]*len(inst_status),\n",
    "#     \"Issue\": [None]*len(inst_status),\n",
    "#     \"Read\": [None]*len(inst_status),\n",
    "#     \"Execute\": [None]*len(inst_status),\n",
    "#     \"Write\": [None]*len(inst_status)\n",
    "# }"
   ]
  },
  {
   "cell_type": "markdown",
   "id": "f37b3d53",
   "metadata": {},
   "source": [
    "## ISSUE"
   ]
  },
  {
   "cell_type": "markdown",
   "id": "1659df50",
   "metadata": {},
   "source": [
    "Verificar se a unidade funcional requerida está livre -- sem hazards estruturais\n",
    "    \n",
    "    Functional unit status -- verificada aqui\n",
    "\n",
    "Verificar se nenhuma outra instrução vai escrever no rd -- sem WAW hazards\n",
    "    \n",
    "    Register Status -- verificado aqui"
   ]
  },
  {
   "cell_type": "code",
   "execution_count": 9,
   "id": "5539c408",
   "metadata": {},
   "outputs": [],
   "source": [
    "pc = 0\n",
    "instr = instruction_status[pc]\n",
    "opcode_i = instr['opcode']\n",
    "rs1_i = instr['rs1']\n",
    "rs2_i = instr['rs2']\n",
    "rd_i = instr['rd']\n",
    "for fu_name, fu in fus_status.items():\n",
    "    # verifica se a unidade funcional corresponde à instrução\n",
    "    # se a unidade funcional não está vazia\n",
    "    # se nenhuma outra FU n está escrevendo no rd\n",
    "    if fu['Opcode'] != opcode_i or fu['Busy'] or register_status[rd_i]['writer'] is not None:\n",
    "        continue\n",
    "    fu['Busy'] = True\n",
    "    fu['Op'] = opcode_i\n",
    "    fu['Fi'] = rd_i\n",
    "    fu['Fj'] = rs1_i\n",
    "    fu['Fk'] = rs2_i\n",
    "    fu['Qj'] = register_status[rs1_i]['writer'] if rs1_i is not None else None\n",
    "    fu['Qk'] = register_status[rs2_i]['writer'] if rs2_i is not None else None\n",
    "    fu['Rj'] = fu['Qj'] is None\n",
    "    fu['Rk'] = fu['Qk'] is None\n",
    "    register_status[rd_i]['writer'] = fu_name\n",
    "    instruction_status[pc]['issue']=pc\n",
    "    pc+=1\n",
    "    break"
   ]
  },
  {
   "cell_type": "code",
   "execution_count": 10,
   "id": "a1a051ce",
   "metadata": {},
   "outputs": [],
   "source": [
    "def issue(pc, instr, fus_status, register_status, instruction_status):\n",
    "    opcode_i = instr['opcode']\n",
    "    rs1_i = instr['rs1']\n",
    "    rs2_i = instr['rs2']\n",
    "    rd_i = instr['rd']\n",
    "    for fu_name, fu in fus_status.items():\n",
    "        # verifica se a unidade funcional corresponde à instrução\n",
    "        # se a unidade funcional não está vazia\n",
    "        # se nenhuma outra FU n está escrevendo no rd\n",
    "        if fu['Opcode'] != opcode_i or fu['Busy'] or register_status[rd_i]['writer'] is not None:\n",
    "            continue\n",
    "        fu['Busy'] = True\n",
    "        fu['Op'] = opcode_i\n",
    "        fu['Fi'] = rd_i\n",
    "        fu['Fj'] = rs1_i\n",
    "        fu['Fk'] = rs2_i\n",
    "        fu['Qj'] = register_status[rs1_i]['writer'] if rs1_i is not None else None\n",
    "        fu['Qk'] = register_status[rs2_i]['writer'] if rs2_i is not None else None\n",
    "        fu['Rj'] = fu['Qj'] is None\n",
    "        fu['Rk'] = fu['Qk'] is None\n",
    "        register_status[rd_i]['writer'] = fu_name\n",
    "        instruction_status[pc]['issue']=pc\n",
    "        pc+=1\n",
    "        break"
   ]
  },
  {
   "cell_type": "markdown",
   "id": "85afbda0",
   "metadata": {},
   "source": [
    "## Read Operands"
   ]
  },
  {
   "cell_type": "markdown",
   "id": "62f5546a",
   "metadata": {},
   "source": [
    "verifica no `register_status` se alguma unidade funcional vai escrever nos operandos de leitura `rs1` e `rs2`"
   ]
  },
  {
   "cell_type": "code",
   "execution_count": 11,
   "id": "796bc1bd",
   "metadata": {},
   "outputs": [],
   "source": [
    "ready_rs1 = (rs1_i is None) or (register_status[rs1_i]['writer'] is None)\n",
    "ready_rs2 = (rs2_i is None) or (register_status[rs2_i]['writer'] is None)\n",
    "\n",
    "if ready_rs1 and ready_rs2:\n",
    "    instr['read_operands'] = pc\n",
    "    fu['Rj'] = False\n",
    "    fu['Rk'] = False\n"
   ]
  },
  {
   "cell_type": "markdown",
   "id": "70bd7c83",
   "metadata": {},
   "source": [
    "## Scoreboard"
   ]
  },
  {
   "cell_type": "markdown",
   "id": "c5f896cf",
   "metadata": {},
   "source": [
    "### Montando a instrução novamente"
   ]
  },
  {
   "cell_type": "code",
   "execution_count": 12,
   "id": "8d66fc1f",
   "metadata": {},
   "outputs": [],
   "source": [
    "def any_fu_busy(fus):\n",
    "    for fu_name, fu in fus.items():\n",
    "        if fu['Busy']:\n",
    "            return True\n",
    "    return False"
   ]
  },
  {
   "cell_type": "code",
   "execution_count": 23,
   "id": "d825e716",
   "metadata": {},
   "outputs": [],
   "source": [
    "pc = 0\n",
    "cycle = 0"
   ]
  },
  {
   "cell_type": "code",
   "execution_count": 21,
   "id": "3ce8be91",
   "metadata": {},
   "outputs": [
    {
     "data": {
      "text/plain": [
       "6"
      ]
     },
     "execution_count": 21,
     "metadata": {},
     "output_type": "execute_result"
    }
   ],
   "source": [
    "len(instruction_status)"
   ]
  },
  {
   "cell_type": "code",
   "execution_count": null,
   "id": "a6360ad9",
   "metadata": {},
   "outputs": [
    {
     "name": "stdout",
     "output_type": "stream",
     "text": [
      "{'inst': 'fld f1, 0(x1)', 'opcode': 0, 'rd': 'f1', 'rs1': 'x1', 'rs2': None, 'imm': '0', 'issue': 0, 'read_operands': 1, 'execution_complete': None, 'write_result': None, 'read': None, 'exec': None, 'write': None}\n",
      "{'inst': 'fld f1, 0(x1)', 'opcode': 0, 'rd': 'f1', 'rs1': 'x1', 'rs2': None, 'imm': '0', 'issue': 0, 'read_operands': 1, 'execution_complete': None, 'write_result': None, 'read': None, 'exec': None, 'write': None}\n",
      "{'inst': 'fld f1, 0(x1)', 'opcode': 0, 'rd': 'f1', 'rs1': 'x1', 'rs2': None, 'imm': '0', 'issue': 0, 'read_operands': 1, 'execution_complete': None, 'write_result': None, 'read': None, 'exec': None, 'write': None}\n",
      "{'inst': 'fld f1, 0(x1)', 'opcode': 0, 'rd': 'f1', 'rs1': 'x1', 'rs2': None, 'imm': '0', 'issue': 0, 'read_operands': 1, 'execution_complete': None, 'write_result': None, 'read': None, 'exec': None, 'write': None}\n",
      "{'inst': 'fld f1, 0(x1)', 'opcode': 0, 'rd': 'f1', 'rs1': 'x1', 'rs2': None, 'imm': '0', 'issue': 0, 'read_operands': 1, 'execution_complete': None, 'write_result': None, 'read': None, 'exec': None, 'write': None}\n",
      "{'inst': 'fld f1, 0(x1)', 'opcode': 0, 'rd': 'f1', 'rs1': 'x1', 'rs2': None, 'imm': '0', 'issue': 0, 'read_operands': 1, 'execution_complete': None, 'write_result': None, 'read': None, 'exec': None, 'write': None}\n"
     ]
    }
   ],
   "source": [
    "#  or any_fu_busy(fus_status)\n",
    "while pc < len(instruction_status):\n",
    "    # read operands\n",
    "    for inst in instruction_status:\n",
    "        if inst['issue'] is not None and inst['read_operands'] is None:\n",
    "            \n",
    "\n",
    "        print(inst)\n",
    "        break\n",
    "    #     if inst[]\n",
    "    # issue(pc, instr, fus_status, register_status, instruction_status)\n",
    "    # cycle+=1\n",
    "    pc+=1\n"
   ]
  },
  {
   "cell_type": "code",
   "execution_count": null,
   "id": "2b67a446",
   "metadata": {},
   "outputs": [],
   "source": [
    "for idx, i in enumerate(stages['Instruction/Cicle']):\n",
    "    if i is not None:\n",
    "        if i['opcode'] == 0:\n",
    "            rd = f\"f{i['rd']}\" if i['rd_type'] == 'float' else f\"x{i['rd']}\"\n",
    "            rs1 = f\"f{i['rs1']}\" if i['rs1_type'] == 'float' else f\"x{i['rs1']}\"\n",
    "            imm = i.get('imm', 0)\n",
    "            i_mont = f\"fld {rd}, {imm}({rs1})\"\n",
    "            stages['Instruction/Cicle'][idx] = i_mont \n"
   ]
  },
  {
   "cell_type": "code",
   "execution_count": null,
   "id": "e636c269",
   "metadata": {},
   "outputs": [],
   "source": [
    "df_stages = pd.DataFrame({\n",
    "    \"Instruction/Cycle\": stages[\"Instruction/Cicle\"],\n",
    "    \"Issue\": stages[\"Issue\"],\n",
    "    \"Read\": stages[\"Read\"],\n",
    "    \"Execute\": stages[\"Execute\"],\n",
    "    \"Write\": stages[\"Write\"]\n",
    "})\n",
    "\n",
    "# df_stages[\"Issue\"] = df_stages[\"Issue\"].astype(\"Int64\")\n",
    "\n",
    "# df_stages.style.hide(axis=\"index\")\n",
    "print(df_stages.to_string(index=False))"
   ]
  },
  {
   "cell_type": "code",
   "execution_count": null,
   "id": "ab3e9e20",
   "metadata": {},
   "outputs": [],
   "source": []
  }
 ],
 "metadata": {
  "kernelspec": {
   "display_name": "ambiente",
   "language": "python",
   "name": "python3"
  },
  "language_info": {
   "codemirror_mode": {
    "name": "ipython",
    "version": 3
   },
   "file_extension": ".py",
   "mimetype": "text/x-python",
   "name": "python",
   "nbconvert_exporter": "python",
   "pygments_lexer": "ipython3",
   "version": "3.13.3"
  }
 },
 "nbformat": 4,
 "nbformat_minor": 5
}
